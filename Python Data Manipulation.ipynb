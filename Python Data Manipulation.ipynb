{
  "nbformat": 4,
  "nbformat_minor": 0,
  "metadata": {
    "colab": {
      "name": "HW2_DAIXI_ZHANG.ipynb",
      "provenance": [],
      "collapsed_sections": []
    },
    "kernelspec": {
      "name": "python3",
      "display_name": "Python 3"
    }
  },
  "cells": [
    {
      "cell_type": "markdown",
      "metadata": {
        "id": "bNsIruOzI4iF"
      },
      "source": [
        "## **Homework 2**\n",
        "\n",
        "### Create a copy of the notebook to start answering the questions. Name your notebook in the format HW2_lastname_firstname.ipynb to facilitate the grading process. \n",
        "\n",
        "### Answer all the questions, test your code to ensure there are no errors and the results are as expected. Once you have answered all the questions, save the final copy, then go to File-> click on Download.ipynb. Once the local copy has been downloaded, submit your file on Blackboard under the corresponding assignment section. Also provide us a link to your notebook during submission. \n",
        "\n",
        "### **The due date of this homework is 02/12/2021 (Friday).**\n",
        "\n",
        "### Please ensure you follow all the steps mentioned in the homework.\n",
        "\n",
        "### All the questions have a sample input and output to help you understand the question.\n",
        "\n",
        "### You can submit your solutions any number of times until the deadline.\n"
      ]
    },
    {
      "cell_type": "markdown",
      "metadata": {
        "id": "U3Yz3s2uio1F"
      },
      "source": [
        "**Q1. Lets consider your data is like the below cell:**\n",
        "\n",
        "**Q1-1**: Write a program that create a dataframe from the data.\n",
        "\n",
        "**Q1-2:** Select people that are psychologist or teacher and their number of cars is greater than their family size.\n",
        "\n",
        "**Q1-3:** Select people who have at most 2 family members and at least 1 car.\n",
        "\n",
        "**Q1-4:** Write a code that get number of unique jobs in this dataset.\n",
        "\n",
        "\n",
        "\n"
      ]
    },
    {
      "cell_type": "code",
      "metadata": {
        "id": "yR8lcOtcjxXD"
      },
      "source": [
        "data = {\"name\": [\"Joseph\", \"Jacob\", \"Sam\", \"Jesee\", \"Ryan\", \"Lisa\", \"Lee\"],\n",
        "        \"job\": [\"teacher\", \"psychologist\", \"data scientist\", \"software developer\", \"psychologist\", \"psychologist\", \"teacher\"],\n",
        "        \"family_size\": [3, 2, 1, 4, 2, 3, 2],\n",
        "        \"num_cars\": [3, 1, 1, 2, 2, 4, 1]}"
      ],
      "execution_count": 1,
      "outputs": []
    },
    {
      "cell_type": "code",
      "metadata": {
        "id": "Youi5qMaP34p",
        "colab": {
          "base_uri": "https://localhost:8080/"
        },
        "outputId": "08a5889b-129f-42d4-c787-d1247e1fb8d4"
      },
      "source": [
        "# Type your solution here\n",
        "import pandas as pd\n",
        "df = pd.DataFrame.from_dict(data)\n",
        "df_q12 = df[((df[\"job\"] == \"psychologist\") | (df[\"job\"] == 'teacher')) & (df[\"num_cars\"] > df[\"family_size\"])]\n",
        "df_q13 = df[(df[\"family_size\"] <= 2)&(df[\"num_cars\"] >= 1)]\n",
        "df_q14 = len(set(df[\"job\"]))\n",
        "\n",
        "print(df_q12)\n",
        "print(\" \\n\")\n",
        "print(df_q13)\n",
        "print(\" \\n\")\n",
        "print(df_q14)"
      ],
      "execution_count": 2,
      "outputs": [
        {
          "output_type": "stream",
          "text": [
            "   name           job  family_size  num_cars\n",
            "5  Lisa  psychologist            3         4\n",
            " \n",
            "\n",
            "    name             job  family_size  num_cars\n",
            "1  Jacob    psychologist            2         1\n",
            "2    Sam  data scientist            1         1\n",
            "4   Ryan    psychologist            2         2\n",
            "6    Lee         teacher            2         1\n",
            " \n",
            "\n",
            "4\n"
          ],
          "name": "stdout"
        }
      ]
    },
    {
      "cell_type": "markdown",
      "metadata": {
        "id": "Ow6nG8k4l91X"
      },
      "source": [
        "**Q2. Lets consider you have two series like the below cell. Compute the mean of weights of each fruit.**"
      ]
    },
    {
      "cell_type": "code",
      "metadata": {
        "id": "u-X_DoOzVLLB"
      },
      "source": [
        "import numpy as np\n",
        "fruit = pd.Series(np.random.choice(['apple', 'banana', 'carrot'], 10))\n",
        "weights = pd.Series(np.linspace(1, 10, 10))"
      ],
      "execution_count": 3,
      "outputs": []
    },
    {
      "cell_type": "code",
      "metadata": {
        "id": "S419nzYnpU__",
        "colab": {
          "base_uri": "https://localhost:8080/"
        },
        "outputId": "210b4ed2-7509-4cd0-e752-10031f804cfc"
      },
      "source": [
        "# Type your solution here\n",
        "# Type your solution here\n",
        "df_q2 = pd. concat([fruit, weights], keys = [\"fruit\", \"weights\"],axis=1)\n",
        "df_q2_mean = df_q2.groupby(df_q2[\"fruit\"], axis=0).mean()\n",
        "print(df_q2_mean)"
      ],
      "execution_count": 4,
      "outputs": [
        {
          "output_type": "stream",
          "text": [
            "        weights\n",
            "fruit          \n",
            "apple      3.60\n",
            "banana     6.00\n",
            "carrot     7.75\n"
          ],
          "name": "stdout"
        }
      ]
    },
    {
      "cell_type": "markdown",
      "metadata": {
        "id": "g4lKaPIhtVrt"
      },
      "source": [
        "**Q3. Consider the below course_name array:**\n",
        "\n",
        "**Q3-1**: Write a NumPy program to get the indices of the sorted elements of **course_name** array.\n",
        "\n",
        "**Q3-2:** Write numpy code to check whether each element of **course_name** array starts with \"P\".\n"
      ]
    },
    {
      "cell_type": "code",
      "metadata": {
        "id": "RUP_jp2KtVrx"
      },
      "source": [
        "import numpy as np\n",
        "course_name = np.array(['Python', 'JS', 'examples', 'PHP', 'html'])"
      ],
      "execution_count": 5,
      "outputs": []
    },
    {
      "cell_type": "code",
      "metadata": {
        "id": "U1i27POxv-o_",
        "colab": {
          "base_uri": "https://localhost:8080/"
        },
        "outputId": "a850e6cd-8e6b-40cd-ddd4-bd8549282e3a"
      },
      "source": [
        "# Type your solution here\n",
        "# Type your solution here\n",
        "dict_q3 = {}\n",
        "list_q3 = []\n",
        "counter = 0\n",
        "while counter < len(course_name) :\n",
        "  dict_q3[course_name[counter]] = counter\n",
        "  counter += 1\n",
        "\n",
        "#print(\"Here is my new function: \", np.argsort(course_name))\n",
        "\n",
        "sorted_course_name = sorted(dict_q3.items())\n",
        "for element in sorted_course_name:\n",
        "  list_q3.append(element[1])\n",
        "\n",
        "print(\"This is the list of  the indices of the sorted elements of course_name array: \", list_q3)\n",
        "print(\"The result of whether each element of course_name array starts with \"\"P\"\" is:\", np.char.startswith(course_name, 'P'))  "
      ],
      "execution_count": 6,
      "outputs": [
        {
          "output_type": "stream",
          "text": [
            "This is the list of  the indices of the sorted elements of course_name array:  [1, 3, 0, 2, 4]\n",
            "The result of whether each element of course_name array starts with P is: [ True False False  True False]\n"
          ],
          "name": "stdout"
        }
      ]
    },
    {
      "cell_type": "markdown",
      "metadata": {
        "id": "sUFItNFOxwkz"
      },
      "source": [
        "**Q4. Consider the below student_id array:**\n",
        "\n",
        "**Q4-1:** Reverse the **student_id** array. Print both original and reversed array.\n",
        "\n",
        "**Q4-2:** Get the 3-largest values of **student_id** array."
      ]
    },
    {
      "cell_type": "code",
      "metadata": {
        "id": "Rl5qzEjFv0nw"
      },
      "source": [
        "import numpy as np\n",
        "student_id = np.array([1023, 5202, 6230, 1671, 1682, 5241, 4532])"
      ],
      "execution_count": 7,
      "outputs": []
    },
    {
      "cell_type": "code",
      "metadata": {
        "id": "EetvHGrUxMCC",
        "colab": {
          "base_uri": "https://localhost:8080/"
        },
        "outputId": "fea9cd7d-6ded-4771-8fe9-e83ad049518b"
      },
      "source": [
        "# Type your solution \n",
        "\n",
        "reversed_arr_q4 = student_id[::-1]\n",
        "print(\"This is the original array:\", student_id)\n",
        "print(\"This is the reversed array:\", reversed_arr_q4)\n",
        "print(\"This is the three largest value: \",sorted(student_id, reverse = True)[0:3])"
      ],
      "execution_count": 8,
      "outputs": [
        {
          "output_type": "stream",
          "text": [
            "This is the original array: [1023 5202 6230 1671 1682 5241 4532]\n",
            "This is the reversed array: [4532 5241 1682 1671 6230 5202 1023]\n",
            "This is the three largest value:  [6230, 5241, 5202]\n"
          ],
          "name": "stdout"
        }
      ]
    },
    {
      "cell_type": "markdown",
      "metadata": {
        "id": "uKRyDVuW6B19"
      },
      "source": [
        "# **Q5: Write a numpy program to print sum of all the multiples of 3 or 5 below 100**"
      ]
    },
    {
      "cell_type": "code",
      "metadata": {
        "id": "ZIixq1gz6OK3",
        "colab": {
          "base_uri": "https://localhost:8080/"
        },
        "outputId": "63800714-8b6f-432a-87b6-f207204d3e29"
      },
      "source": [
        "# Type your solution here\n",
        "arr =  np.arange(100)\n",
        "arr = arr[(arr % 3 == 0) | (arr % 5 == 0)]\n",
        "print(sum(arr))\n"
      ],
      "execution_count": 9,
      "outputs": [
        {
          "output_type": "stream",
          "text": [
            "2318\n"
          ],
          "name": "stdout"
        }
      ]
    },
    {
      "cell_type": "markdown",
      "metadata": {
        "id": "2CWJOsP24c34"
      },
      "source": [
        "**Q6. Consider the below array.**\n",
        "\n",
        "Q6.1. Write a code to swap column 1 with column 2.\n",
        "\n",
        "Q6.2. Write a code to swap row 0 with row 1."
      ]
    },
    {
      "cell_type": "code",
      "metadata": {
        "id": "3OG6X5Eg5KSM",
        "colab": {
          "base_uri": "https://localhost:8080/"
        },
        "outputId": "06604a85-3399-4418-94c9-d6d380086091"
      },
      "source": [
        "import numpy as np\n",
        "\n",
        "arr = np.arange(12).reshape(3,4)\n",
        "print(arr)"
      ],
      "execution_count": 10,
      "outputs": [
        {
          "output_type": "stream",
          "text": [
            "[[ 0  1  2  3]\n",
            " [ 4  5  6  7]\n",
            " [ 8  9 10 11]]\n"
          ],
          "name": "stdout"
        }
      ]
    },
    {
      "cell_type": "code",
      "metadata": {
        "id": "Q-Q91DpO5YYW",
        "colab": {
          "base_uri": "https://localhost:8080/"
        },
        "outputId": "cf3ce91b-9abc-43e5-e532-6f176f9854d5"
      },
      "source": [
        "import numpy as np\n",
        "# Write a code to swap column 1 with column 2.\n",
        "arr1 = np.arange(12).reshape(3,4)\n",
        "arr1[:,[1, 2]] = arr1[:,[2, 1]]\n",
        "print(arr1)\n",
        "print(\" \\n\")\n",
        "arr1[[0,1],:] = arr1[[1,0],:]\n",
        "print(arr1)"
      ],
      "execution_count": 14,
      "outputs": [
        {
          "output_type": "stream",
          "text": [
            "[[ 0  2  1  3]\n",
            " [ 4  6  5  7]\n",
            " [ 8 10  9 11]]\n",
            " \n",
            "\n",
            "[[ 4  6  5  7]\n",
            " [ 0  2  1  3]\n",
            " [ 8 10  9 11]]\n"
          ],
          "name": "stdout"
        }
      ]
    }
  ]
}